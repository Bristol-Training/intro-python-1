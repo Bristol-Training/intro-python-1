{
  "cells": [
    {
      "cell_type": "markdown",
      "metadata": {},
      "source": [
        "---\n",
        "title: Hello, Python!\n",
        "---\n",
        "\n",
        "\n",
        "\n",
        "\n",
        "\n",
        "This course will use a tool called *Jupyter Notebooks* to run your Python code. Once Jupyter Lab is open, to open a Notebook go to `File` > `New` > `Notebook` or click the `Python 3` button under `Notebook` section in the `Launcher` tab.\n",
        "\n",
        "Once the notebook is launched, you will see a wide grey box with a blue `[ ]:` to the left. The grey box is an input cell where you type any Python code you want to run. For instance, type:\n",
        "\n",
        "```{.python}\n",
        "print(\"Hello, Python!\")\n",
        "```\n",
        "\n",
        "Then, to run the cell click the button (▶) in the toolbar at the top or press Ctrl-Enter or Shift-Enter with the cursor inside. The output will appear below when the cell is run:\n"
      ],
      "id": "2370b192"
    },
    {
      "cell_type": "code",
      "metadata": {},
      "source": [
        "print(\"Hello, Python!\")"
      ],
      "id": "b0b9cf4c",
      "execution_count": null,
      "outputs": []
    },
    {
      "cell_type": "markdown",
      "metadata": {},
      "source": [
        "Congratulations, you’ve just written and executed your very first Python code!\n",
        "\n",
        "\n",
        "Python have special integration with Jupyter Notebooks and so can display their output directly into the page. For example `pandas` will format tables of data nicely and `matplotlib` will embed graphs directly. Try copying the below code into a new cell and run it (**we don't expect you to understand it**):\n"
      ],
      "id": "5f106794"
    },
    {
      "cell_type": "code",
      "metadata": {},
      "source": [
        "import pandas as pd\n",
        "temp = pd.DataFrame(\n",
        "    [3.1, 2.4, 4.8, 4.1, 3.4, 4.2],\n",
        "    columns=[\"temp (°C)\"],\n",
        "    index=pd.RangeIndex(2000, 2006, name=\"year\")\n",
        ")\n",
        "temp"
      ],
      "id": "d556b9ae",
      "execution_count": null,
      "outputs": []
    },
    {
      "cell_type": "code",
      "metadata": {},
      "source": [
        "temp.plot()"
      ],
      "id": "1fb1ef71",
      "execution_count": null,
      "outputs": []
    },
    {
      "cell_type": "markdown",
      "metadata": {},
      "source": [
        "## Commenting your code\n",
        "\n",
        "It is **good practice** to add comments to your code so it is easy to understand by other programmers or even yourself after a few months. This is particularly important if there's anything non-obvious in your code. To add a comments you can use a `#` symbol at any position in your script, what is behind '#' will be ignored by Python when running that line of code. \n"
      ],
      "id": "a8d31bbb"
    },
    {
      "cell_type": "code",
      "metadata": {},
      "source": [
        "# This script prints my favourite colour\n",
        "\n",
        "# print(\"Don't print me!\") \n",
        "\n",
        "print(\"My favourite colour is red\") # print my favourite colour"
      ],
      "id": "a026d04c",
      "execution_count": null,
      "outputs": []
    }
  ],
  "metadata": {
    "kernelspec": {
      "name": "python3",
      "language": "python",
      "display_name": "Python 3 (ipykernel)",
      "path": "/opt/local/Library/Frameworks/Python.framework/Versions/3.12/share/jupyter/kernels/python3"
    }
  },
  "nbformat": 4,
  "nbformat_minor": 5
}