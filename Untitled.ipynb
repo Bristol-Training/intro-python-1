{
 "cells": [
  {
   "cell_type": "code",
   "execution_count": null,
   "id": "d202e696-681e-4a45-90d2-618b1c097b70",
   "metadata": {},
   "outputs": [],
   "source": [
    "fav = input(\"What is your favourite colour?\")\n",
    "print(\"My favourite colour is\", fav)\n"
   ]
  },
  {
   "cell_type": "code",
   "execution_count": null,
   "id": "ad4a804e-b8a5-4b3f-b03f-cf65d0e721e6",
   "metadata": {},
   "outputs": [],
   "source": []
  }
 ],
 "metadata": {
  "kernelspec": {
   "display_name": "Python 3 (ipykernel)",
   "language": "python",
   "name": "python3"
  },
  "language_info": {
   "codemirror_mode": {
    "name": "ipython",
    "version": 3
   },
   "file_extension": ".py",
   "mimetype": "text/x-python",
   "name": "python",
   "nbconvert_exporter": "python",
   "pygments_lexer": "ipython3",
   "version": "3.12.9"
  }
 },
 "nbformat": 4,
 "nbformat_minor": 5
}
